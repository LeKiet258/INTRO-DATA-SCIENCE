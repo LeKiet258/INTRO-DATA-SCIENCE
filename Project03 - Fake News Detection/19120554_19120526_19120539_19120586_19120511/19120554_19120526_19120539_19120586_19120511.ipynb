{
 "cells": [
  {
   "cell_type": "markdown",
   "metadata": {},
   "source": [
    "Link trang web: https://share.streamlit.io/lekiet258/project03_ds/app.py"
   ]
  },
  {
   "cell_type": "markdown",
   "metadata": {},
   "source": [
    "## BẢNG PHÂN CÔNG\n",
    "\n",
    "| MSSV     | Họ và tên        | % đóng góp (tối đa 100%) | Chi   tiết công việc         |\n",
    "|----------|------------------|--------------------------|------------------------------|\n",
    "| 19120511 | Võ Văn Hiếu      | 100                      | Tiền xử lý tiếng Việt + mô hình Random Forest                         |\n",
    "| 19120526 | Huỳnh Đức Huy    | 100                      | Mô hình Decision Tree + code/deploy trang Web                        |\n",
    "| 19120539 | Vương Thế Khang  | 100                      | EDA (Khám phá dữ liệu) + code Streamlit                         |\n",
    "| 19120554 | Lê Kiệt          | 100                      | Mô hình Linear Regression Web + Soạn báo cáo                       |\n",
    "| 19120586 | Nguyễn Phát Minh | 100                      | Mô hình Logistic Regression + xây dựng Pipeline quá trình huấn luyện                           |"
   ]
  },
  {
   "cell_type": "markdown",
   "metadata": {},
   "source": [
    "# THƯ VIỆN"
   ]
  },
  {
   "cell_type": "markdown",
   "metadata": {},
   "source": [
    "* Note: trong Project nhóm có sử dụng thư viện `underthesea`. Nếu thầy cô chưa có thư viện này có thể tháo comment cell phía dưới để cài đặt thư viện\n",
    "* Link tham khảo: https://underthesea.readthedocs.io/en/latest/readme.html"
   ]
  },
  {
   "cell_type": "code",
   "execution_count": 1,
   "metadata": {},
   "outputs": [],
   "source": [
    "# !pip install underthesea"
   ]
  },
  {
   "cell_type": "code",
   "execution_count": 2,
   "metadata": {},
   "outputs": [],
   "source": [
    "import pandas as pd\n",
    "import numpy as np\n",
    "import matplotlib.pyplot as plt \n",
    "import seaborn as sns\n",
    "import re\n",
    "import joblib\n",
    "import requests\n",
    "\n",
    "from underthesea import word_tokenize\n",
    "\n",
    "from sklearn.base import BaseEstimator, TransformerMixin\n",
    "from sklearn.pipeline import Pipeline\n",
    "\n",
    "from sklearn.linear_model import LinearRegression\n",
    "from sklearn.linear_model import LogisticRegression\n",
    "from sklearn.ensemble import RandomForestClassifier\n",
    "from sklearn.tree import DecisionTreeClassifier\n",
    "\n",
    "from sklearn.feature_extraction.text import CountVectorizer\n",
    "from sklearn.feature_extraction.text import TfidfVectorizer\n",
    "\n",
    "from sklearn.metrics import confusion_matrix"
   ]
  },
  {
   "cell_type": "markdown",
   "metadata": {},
   "source": [
    "# I. KHÁM PHÁ DỮ LIỆU"
   ]
  },
  {
   "cell_type": "markdown",
   "metadata": {},
   "source": [
    "Đọc dữ liệu từ file \"vn_news_223_tdlfr.csv\" và lưu vào dataframe `news_df`."
   ]
  },
  {
   "cell_type": "code",
   "execution_count": 3,
   "metadata": {},
   "outputs": [
    {
     "data": {
      "text/html": [
       "<div>\n",
       "<style scoped>\n",
       "    .dataframe tbody tr th:only-of-type {\n",
       "        vertical-align: middle;\n",
       "    }\n",
       "\n",
       "    .dataframe tbody tr th {\n",
       "        vertical-align: top;\n",
       "    }\n",
       "\n",
       "    .dataframe thead th {\n",
       "        text-align: right;\n",
       "    }\n",
       "</style>\n",
       "<table border=\"1\" class=\"dataframe\">\n",
       "  <thead>\n",
       "    <tr style=\"text-align: right;\">\n",
       "      <th></th>\n",
       "      <th>text</th>\n",
       "      <th>domain</th>\n",
       "      <th>label</th>\n",
       "    </tr>\n",
       "  </thead>\n",
       "  <tbody>\n",
       "    <tr>\n",
       "      <th>0</th>\n",
       "      <td>Thủ tướng Abe cúi đầu xin lỗi vì hành động phi...</td>\n",
       "      <td>binhluan.biz</td>\n",
       "      <td>1</td>\n",
       "    </tr>\n",
       "    <tr>\n",
       "      <th>1</th>\n",
       "      <td>Thủ tướng Nhật cúi đầu xin lỗi vì tinh thần ph...</td>\n",
       "      <td>www.ipick.vn</td>\n",
       "      <td>1</td>\n",
       "    </tr>\n",
       "    <tr>\n",
       "      <th>2</th>\n",
       "      <td>Choáng! Cơ trưởng đeo khăn quàng quẩy banh nóc...</td>\n",
       "      <td>tintucqpvn.net</td>\n",
       "      <td>1</td>\n",
       "    </tr>\n",
       "    <tr>\n",
       "      <th>3</th>\n",
       "      <td>Chưa bao giờ nhạc Kpop lại dễ hát đến thế!!!\\n...</td>\n",
       "      <td>tintucqpvn.net</td>\n",
       "      <td>1</td>\n",
       "    </tr>\n",
       "    <tr>\n",
       "      <th>4</th>\n",
       "      <td>Đại học Hutech sẽ áp dụng cải cách \"Tiếq Việt\"...</td>\n",
       "      <td>www.gioitreviet.net</td>\n",
       "      <td>1</td>\n",
       "    </tr>\n",
       "  </tbody>\n",
       "</table>\n",
       "</div>"
      ],
      "text/plain": [
       "                                                text               domain  \\\n",
       "0  Thủ tướng Abe cúi đầu xin lỗi vì hành động phi...         binhluan.biz   \n",
       "1  Thủ tướng Nhật cúi đầu xin lỗi vì tinh thần ph...         www.ipick.vn   \n",
       "2  Choáng! Cơ trưởng đeo khăn quàng quẩy banh nóc...       tintucqpvn.net   \n",
       "3  Chưa bao giờ nhạc Kpop lại dễ hát đến thế!!!\\n...       tintucqpvn.net   \n",
       "4  Đại học Hutech sẽ áp dụng cải cách \"Tiếq Việt\"...  www.gioitreviet.net   \n",
       "\n",
       "   label  \n",
       "0      1  \n",
       "1      1  \n",
       "2      1  \n",
       "3      1  \n",
       "4      1  "
      ]
     },
     "execution_count": 3,
     "metadata": {},
     "output_type": "execute_result"
    }
   ],
   "source": [
    "news_df = pd.read_csv('vn_news_223_tdlfr.csv')\n",
    "news_df.head()"
   ]
  },
  {
   "cell_type": "markdown",
   "metadata": {},
   "source": [
    "### Dữ liệu có bao nhiều dòng và bao nhiêu cột?"
   ]
  },
  {
   "cell_type": "code",
   "execution_count": 4,
   "metadata": {},
   "outputs": [
    {
     "data": {
      "text/plain": [
       "(223, 3)"
      ]
     },
     "execution_count": 4,
     "metadata": {},
     "output_type": "execute_result"
    }
   ],
   "source": [
    "news_df.shape"
   ]
  },
  {
   "cell_type": "markdown",
   "metadata": {},
   "source": [
    "Vậy dữ liệu có kích thước **223 dòng x 3 cột**"
   ]
  },
  {
   "cell_type": "markdown",
   "metadata": {},
   "source": [
    "### Mỗi dòng có ý nghĩa gì? Có vấn đề các dòng có ý nghĩa khác nhau không?"
   ]
  },
  {
   "cell_type": "markdown",
   "metadata": {},
   "source": [
    "Quan sát sơ bộ dữ liệu ta thấy mỗi dòng chứa thông tin về một bài báo, có vẻ như không có vấn đề các dòng có ý nghĩa khác nhau."
   ]
  },
  {
   "cell_type": "markdown",
   "metadata": {},
   "source": [
    "### Dữ liệu có các dòng bị lặp không?"
   ]
  },
  {
   "cell_type": "markdown",
   "metadata": {},
   "source": [
    "Kiểm tra xem dữ liệu có các dòng bị lặp không và lưu kết quả vào biến `have_duplicated_row`. Biến này sẽ có giá trị True nếu dữ liệu có các dòng bị lặp và có giá trị False nếu ngược lại."
   ]
  },
  {
   "cell_type": "code",
   "execution_count": 5,
   "metadata": {},
   "outputs": [
    {
     "data": {
      "text/plain": [
       "False"
      ]
     },
     "execution_count": 5,
     "metadata": {},
     "output_type": "execute_result"
    }
   ],
   "source": [
    "have_duplicated_row = all(news_df.duplicated())\n",
    "have_duplicated_row"
   ]
  },
  {
   "cell_type": "markdown",
   "metadata": {},
   "source": [
    "Như vậy, không có dòng nào bị lặp lại."
   ]
  },
  {
   "cell_type": "markdown",
   "metadata": {},
   "source": [
    "### Mỗi cột có ý nghĩa gì?"
   ]
  },
  {
   "cell_type": "markdown",
   "metadata": {},
   "source": [
    "Thông tin về các cột như sau:\n",
    "- **text:** nội dung của bài báo\n",
    "- **domain:** tên miền (website)\n",
    "- **label:** nhãn (1: tin giả, 0: tin thật)"
   ]
  },
  {
   "cell_type": "markdown",
   "metadata": {},
   "source": [
    "### Mỗi cột hiện đang có kiểu dữ liệu gì? Có cột nào có kiểu dữ liệu chưa phù hợp để có thể xử lý tiếp không?"
   ]
  },
  {
   "cell_type": "markdown",
   "metadata": {},
   "source": [
    "Xem thử kiểu dữ liệu của các cột dữ liệu"
   ]
  },
  {
   "cell_type": "code",
   "execution_count": 6,
   "metadata": {},
   "outputs": [
    {
     "data": {
      "text/plain": [
       "text      object\n",
       "domain    object\n",
       "label      int64\n",
       "dtype: object"
      ]
     },
     "execution_count": 6,
     "metadata": {},
     "output_type": "execute_result"
    }
   ],
   "source": [
    "news_df.dtypes"
   ]
  },
  {
   "cell_type": "markdown",
   "metadata": {},
   "source": [
    "$\\to$ Có vẻ các cột đều có kiểu dữ liệu phù hợp. Nếu trong quá trình phân tích dữ liệu cần phải thay đổi kiểu dữ liệu của các cột thì ta sẽ quay lại tiền xử lý ở đây, tạm thời ta chấp nhận kiểu dữ liệu hiện tại của các cột."
   ]
  },
  {
   "cell_type": "markdown",
   "metadata": {},
   "source": [
    "### Kiểm tra phân bố các lớp/nhãn"
   ]
  },
  {
   "cell_type": "markdown",
   "metadata": {},
   "source": [
    "Cột `label` có 2 giá trị 1 hoặc 0. Ta sẽ xem phân bố của 2 nhãn này"
   ]
  },
  {
   "cell_type": "code",
   "execution_count": 7,
   "metadata": {},
   "outputs": [
    {
     "data": {
      "image/png": "[encoded data removed]",
      "text/plain": [
       "<Figure size 432x288 with 1 Axes>"
      ]
     },
     "metadata": {
      "needs_background": "light"
     },
     "output_type": "display_data"
    }
   ],
   "source": [
    "news_df['label'].value_counts().plot.bar(xlabel = 'label', ylabel = 'frequency', rot = 0, color = 'maroon');"
   ]
  },
  {
   "cell_type": "markdown",
   "metadata": {},
   "source": [
    "$\\to$ Phân bố 2 nhãn không quá chênh lệch"
   ]
  },
  {
   "cell_type": "markdown",
   "metadata": {},
   "source": [
    "### Các thông tin thống kê của văn bản"
   ]
  },
  {
   "cell_type": "markdown",
   "metadata": {},
   "source": [
    "Các thông tin thống kê bao gồm:\n",
    "- Chiều dài trung bình của mỗi record.\n",
    "- ..."
   ]
  },
  {
   "cell_type": "code",
   "execution_count": 8,
   "metadata": {},
   "outputs": [
    {
     "name": "stdout",
     "output_type": "stream",
     "text": [
      "Chiều dài trung bình của các text: 2540.0\n"
     ]
    }
   ],
   "source": [
    "print('Chiều dài trung bình của các text:', news_df['text'].apply(len).mean().round())"
   ]
  },
  {
   "cell_type": "markdown",
   "metadata": {},
   "source": [
    "# II. TIỀN XỬ LÝ VĂN BẢN TIẾNG VIỆT"
   ]
  },
  {
   "cell_type": "markdown",
   "metadata": {},
   "source": [
    "Ở phần này, ta tiền xử lý văn bản cho cột `text` để chuẩn bị cho pipeline xử lý lúc sau. Mỗi phần tử trong pipeline là 1 class \"transformer\" nên để làm việc với pipeline lúc sau, định nghĩa 1 class \"transformer\" `TextReducer` thừa kế 2 class `BaseEstimator`, `TransformerMixin` dùng để tiền xử lý văn bản tiếng Việt với 3 phương thức\n",
    "- **init()**: trong đây lưu trữ danh sách các stopwords được lấy từ [link stopwords](https://raw.githubusercontent.com/stopwords/vietnamese-stopwords/master/vietnamese-stopwords.txt). Danh sách được lưu vào `self.stopwords`\n",
    "- **fit()**: nhận 2 tham số X là 1 danh sách các đoạn text, y là danh sách label. Tuy nhiên trong ngữ cảnh này ta sẽ không tùy chỉnh hàm fit mà trả về chính nó (self) luôn\n",
    "- **transform()**: nhận 1 tham số X là danh sách các đoạn text cần tiền xử lý, trả về 1 Series các đoạn text đã qua tiền xử lý. Trong hàm này, tiền xử lý văn bản tiếng Việt theo các bước sau: \n",
    "    - Bước 1: loại bỏ các đường dẫn URL (Ví dụ: http, https)\n",
    "    - Bước 2: loại bỏ ký tự đặc biệt ([@#/!.\\'‘’\\\"“”–+-=()%) và thay dấu dấu xuống hàng (\\r\\n) thành dấu cách\n",
    "    - Bước 3: đổi các đoạn text đang có cả chữ hoa và chữ thường thành toàn bộ chữ thường\n",
    "    - Bước 4: tokenize các đoạn văn bản để với mỗi văn bản chỉ còn là danh sách các từ khóa nội dung của từng văn bản đó. Nhóm quyết định sử dụng hàm `word_tokenize` của thư viện `underthesea` để tokenize các từ tiếng Việt\n",
    "    - Bước 5: loại bỏ stopwords dựa vào danh sách stopwords đã lưu vào `self.stopwords`."
   ]
  },
  {
   "cell_type": "code",
   "execution_count": 9,
   "metadata": {},
   "outputs": [],
   "source": [
    "class TextReducer(BaseEstimator, TransformerMixin):\n",
    "    stopwords_raw_url = \"https://raw.githubusercontent.com/stopwords/vietnamese-stopwords/master/vietnamese-stopwords.txt\"\n",
    "\n",
    "    def __init__(self):\n",
    "        self.stopwords = requests.get(self.stopwords_raw_url).text.split('\\n')\n",
    "\n",
    "    def fit(self, X, y = None):\n",
    "        return self\n",
    "\n",
    "    def transform(self, X):\n",
    "        _X = pd.Series(X)\n",
    "\n",
    "        # Bước 1\n",
    "        _X = _X.apply(lambda text: re.sub(r'http(s?)\\S+.', '', text))\n",
    "        # Bước 2\n",
    "        _X = _X.apply(lambda text: re.sub(r'[@#/!.\\'‘’\\\"“”–+-=()%]', '', text))\n",
    "        _X = _X.apply(lambda text: re.sub(r'\\r\\n', ' ', text))\n",
    "        # Bước 3\n",
    "        _X = _X.apply(lambda text: text.lower())\n",
    "        # Bước 4\n",
    "        _X = _X.apply(word_tokenize)\n",
    "        # Bước 5\n",
    "        _X = _X.apply(lambda words: ' '.join([word for word in words if word not in self.stopwords]))\n",
    "\n",
    "        return _X"
   ]
  },
  {
   "cell_type": "markdown",
   "metadata": {},
   "source": [
    "# III. MÔ HÌNH HÓA"
   ]
  },
  {
   "cell_type": "markdown",
   "metadata": {},
   "source": [
    "Ở phần này, nhóm sử dụng 2 mô hình tuyến tính (Linear Regression và Logistic Regression) + 2 mô hình phi tuyến (Random Forest và Decision Tree). Để sử dụng dữ liệu văn bản cho mô hình dự đoán, văn bản phải được phân tích cú pháp để loại bỏ một số từ nhất định (chính là bước tiền xử lý tiếng Việt ở trên). Sau đó, những từ này cần được mã hóa dưới dạng số nguyên hoặc giá trị dấu phẩy động, để sử dụng làm đầu vào trong thuật toán học máy. Quá trình này được gọi là **trích xuất đặc trưng** (hay vectơ hóa/vectorize). Như vậy, với mỗi mô hình, sử dụng 2 vectorizer khác nhau:\n",
    "- `CountVectorizer()`: dủng để tính tần số xuất hiện của từng token trong văn bản (token có thể là 1 từ hoặc nhiều từ - đã có ở bước tokenize trong tiền xử lý văn bản tiếng Việt) \n",
    "- `TfidfVectorizer()`: dùng để tính độ quan trọng (tf-idf) của từng token trong văn bản. Những token có giá trị tf-idf cao là những token xuất hiện nhiều trong văn bản này và xuất hiện ít trong các văn bản khác. Việc này giúp lọc ra những từ phổ biến và giữ lại những từ có giá trị cao (từ khoá của văn bản đó)"
   ]
  },
  {
   "cell_type": "markdown",
   "metadata": {},
   "source": [
    "Để thuận tiện cho việc gọi hàm ở cell sau đó (vì 4 mô hình x 2 vectorizer = 8 mô hình nên nếu không dùng hàm sẽ rất bất tiện và dài dòng), tại cell này làm những công việc sau:\n",
    "- Lưu 4 mô hình vào dictionary `classifiers` với 4 key là tên viết tắt của tên mô hình như code\n",
    "- Lưu 2 vectorizer vào dictionary `vectorizers`, cách viết key tương tự như của biến `classifiers`\n",
    "- Lưu class TextReducer dùng để tiền xử lý văn bản tiếng Việt vào dictionary 1 phần tử `preprocessors`"
   ]
  },
  {
   "cell_type": "code",
   "execution_count": 10,
   "metadata": {},
   "outputs": [],
   "source": [
    "preprocessors = {'tr':TextReducer()}\n",
    "\n",
    "vectorizers = {'cv':CountVectorizer(), \n",
    "               'tv':TfidfVectorizer()}\n",
    "\n",
    "classifiers = {'li':LinearRegression(), \n",
    "               'lo':LogisticRegression(random_state=42), \n",
    "               'dt':DecisionTreeClassifier(random_state=42), \n",
    "               'rf':RandomForestClassifier(random_state=42)}"
   ]
  },
  {
   "cell_type": "markdown",
   "metadata": {},
   "source": [
    "Định nghĩa hàm `generate_models` nhận các tham số \n",
    "- `preprocessors`, `vectorizers`, `classifiers`: chính là 3 dictionary ở cell phía trên\n",
    "- `X_train`, `y_train`: bộ dữ liệu huấn luyện. Trong đó y_train là Series 1 cột thể hiện nhãn 1 hoặc 0 và X_train là 1 dataframe có\n",
    "2 cột text, domain\n",
    "- `out`: tên **folder** dùng để lưu các file mô hình (file nhị phân có đuôi .pkl) \n",
    "\n",
    "Công việc của hàm `generate_models`: \n",
    "- Lần lượt nhóm từng phương thức vector hóa trong `vectorizers` với từng mô hình trong `classifiers` (do hiện tại `preprocessors` chỉ có 1 phần tử nên không quan trọng lắm). Với mỗi lần nhóm:\n",
    "    - Tạo ra pipeline gồm 3 bước: tiền xử lý + vector hóa + mô hình phân lớp\n",
    "    - Tiến hành fit tập dữ liệu train vào pipeline vừa tạo\n",
    "    - Dự đoán nhãn cho tập train, ta sẽ lưu kết quả dự đoán này vào dictionary `prediction`\n",
    "    - Lưu mô hình vừa huấn luyện vào file nhị phân .pkl. file này được đặt tên: \n",
    "    \n",
    "      **<preprocessor sử dụng>\\_<vectorizer sử dụng>_<classifier sử dụng>**.pkl\\. Trong đó:\n",
    "\n",
    "      |                      | Viết tắt                                                                                       |\n",
    "      |----------------------|------------------------------------------------------------------------------------------------|\n",
    "      | preprocessor sử dụng | tr = Text Reducer                                                                              |\n",
    "      | vectorizer sử dụng   | cv = Count Vectorizer<br>tv = Tfidf Vectorizer                                                 |\n",
    "      | classifier sử dụng   | li = Linear Regression<br>lo = Logistic Regression<br>dt = Decision Tree<br>rf = Random Forest |\n",
    "\n",
    "<p>\n",
    "\n",
    "- Kết quả trả về của hàm là một dictionary lưu trữ các kết quả dự đoán, để lấy ra mỗi kết quả dự đoán của mô hình ta dựa vào `preprocessor`, `vectorizer` và `classifier` ứng với mô hình đó (giống với cách đặt tên file .pkl). Đồng thời, việc lưu mô hình vào file nhị phân .pkl sẽ tiện cho việc deloy app bằng Streamlit"
   ]
  },
  {
   "cell_type": "code",
   "execution_count": 11,
   "metadata": {},
   "outputs": [],
   "source": [
    "def generate_models(preprocessors, vectorizers, classifiers, X_train, y_train, out):\n",
    "    prediction = dict()\n",
    "    \n",
    "    for p in preprocessors:\n",
    "        for v in vectorizers:\n",
    "            for c in classifiers:\n",
    "                pipeline = Pipeline([('text_reducer', preprocessors[p]),\n",
    "                                     ('vectorizer'  , vectorizers[v]),\n",
    "                                     ('classifier'  , classifiers[c])])\n",
    "                # train mô hình\n",
    "                pipeline.fit(X_train, y_train)\n",
    "                \n",
    "                # lưu kết quả dự đoán để đánh giá mô hình\n",
    "                y_pred = pipeline.predict(X_train)\n",
    "                prediction[p + '_' + v + '_' + c] = y_pred\n",
    "                \n",
    "                # lưu mô hình vào file .pkl\n",
    "                filepath = out.rstrip('\\\\').rstrip('/') + '/' + p + '_' + v + '_' + c + '.pkl'\n",
    "                joblib.dump(pipeline, filepath, compress = 1)\n",
    "                \n",
    "    return prediction"
   ]
  },
  {
   "cell_type": "code",
   "execution_count": 12,
   "metadata": {},
   "outputs": [
    {
     "data": {
      "text/html": [
       "<div>\n",
       "<style scoped>\n",
       "    .dataframe tbody tr th:only-of-type {\n",
       "        vertical-align: middle;\n",
       "    }\n",
       "\n",
       "    .dataframe tbody tr th {\n",
       "        vertical-align: top;\n",
       "    }\n",
       "\n",
       "    .dataframe thead th {\n",
       "        text-align: right;\n",
       "    }\n",
       "</style>\n",
       "<table border=\"1\" class=\"dataframe\">\n",
       "  <thead>\n",
       "    <tr style=\"text-align: right;\">\n",
       "      <th></th>\n",
       "      <th>tr_cv_li</th>\n",
       "      <th>tr_cv_lo</th>\n",
       "      <th>tr_cv_dt</th>\n",
       "      <th>tr_cv_rf</th>\n",
       "      <th>tr_tv_li</th>\n",
       "      <th>tr_tv_lo</th>\n",
       "      <th>tr_tv_dt</th>\n",
       "      <th>tr_tv_rf</th>\n",
       "    </tr>\n",
       "  </thead>\n",
       "  <tbody>\n",
       "    <tr>\n",
       "      <th>218</th>\n",
       "      <td>-2.281488e-08</td>\n",
       "      <td>0</td>\n",
       "      <td>0</td>\n",
       "      <td>0</td>\n",
       "      <td>-9.746473e-10</td>\n",
       "      <td>0</td>\n",
       "      <td>0</td>\n",
       "      <td>0</td>\n",
       "    </tr>\n",
       "    <tr>\n",
       "      <th>219</th>\n",
       "      <td>6.576029e-08</td>\n",
       "      <td>0</td>\n",
       "      <td>0</td>\n",
       "      <td>0</td>\n",
       "      <td>-1.534914e-08</td>\n",
       "      <td>0</td>\n",
       "      <td>0</td>\n",
       "      <td>0</td>\n",
       "    </tr>\n",
       "    <tr>\n",
       "      <th>220</th>\n",
       "      <td>7.521768e-08</td>\n",
       "      <td>0</td>\n",
       "      <td>0</td>\n",
       "      <td>0</td>\n",
       "      <td>2.413701e-08</td>\n",
       "      <td>0</td>\n",
       "      <td>0</td>\n",
       "      <td>0</td>\n",
       "    </tr>\n",
       "    <tr>\n",
       "      <th>221</th>\n",
       "      <td>-4.037785e-08</td>\n",
       "      <td>0</td>\n",
       "      <td>0</td>\n",
       "      <td>0</td>\n",
       "      <td>-9.266763e-10</td>\n",
       "      <td>0</td>\n",
       "      <td>0</td>\n",
       "      <td>0</td>\n",
       "    </tr>\n",
       "    <tr>\n",
       "      <th>222</th>\n",
       "      <td>-2.322569e-07</td>\n",
       "      <td>0</td>\n",
       "      <td>0</td>\n",
       "      <td>0</td>\n",
       "      <td>9.587527e-09</td>\n",
       "      <td>0</td>\n",
       "      <td>0</td>\n",
       "      <td>0</td>\n",
       "    </tr>\n",
       "  </tbody>\n",
       "</table>\n",
       "</div>"
      ],
      "text/plain": [
       "         tr_cv_li  tr_cv_lo  tr_cv_dt  tr_cv_rf      tr_tv_li  tr_tv_lo  \\\n",
       "218 -2.281488e-08         0         0         0 -9.746473e-10         0   \n",
       "219  6.576029e-08         0         0         0 -1.534914e-08         0   \n",
       "220  7.521768e-08         0         0         0  2.413701e-08         0   \n",
       "221 -4.037785e-08         0         0         0 -9.266763e-10         0   \n",
       "222 -2.322569e-07         0         0         0  9.587527e-09         0   \n",
       "\n",
       "     tr_tv_dt  tr_tv_rf  \n",
       "218         0         0  \n",
       "219         0         0  \n",
       "220         0         0  \n",
       "221         0         0  \n",
       "222         0         0  "
      ]
     },
     "execution_count": 12,
     "metadata": {},
     "output_type": "execute_result"
    }
   ],
   "source": [
    "X_train = news_df['text']\n",
    "y_train = news_df['label']\n",
    "\n",
    "prediction = generate_models(preprocessors, vectorizers, classifiers, X_train, y_train, 'models')\n",
    "pd.DataFrame(prediction).tail(5) # chạy khoảng ~5p"
   ]
  },
  {
   "cell_type": "markdown",
   "metadata": {},
   "source": [
    "**Nhận xét:** Quan sát thấy các kết quả dự đoán của 3 mô hình Logistic Regression, Decision Tree và Random Forest đều cho ra kết quả dạng **binary outcome** (nhị phân chỉ có 2 giá trị 0 và 1), riêng mô hình Linear Regression lại cho ra kết quả là các số thực (để ý thì thấy các số này gần với giá trị 0 (VD: -4.54433275e-08 ~ 0) hoặc 1 (VD: 1.00000007e+00 ~ 1). Điều này cũng dễ hiểu và thường xuyên xảy ra, vì mô hình Linear Regression là mô hình đơn giản và luôn có hàm mất mát (sai số) đi kèm, cho nên các kết quả dự đoán cũng có sai số khá nhỏ, nhưng để chắc chắn việc đánh giá mô hình không bị lỗi, ta sẽ tiền xử lý cho các giá trị dự đoán của mô hình Linear Regression về dạng **binary outcome**"
   ]
  },
  {
   "cell_type": "markdown",
   "metadata": {},
   "source": [
    "---"
   ]
  },
  {
   "cell_type": "markdown",
   "metadata": {},
   "source": [
    "### Tiền xử lý\n",
    "\n",
    "Chuyển các giá trị của cột `tr_cv_li` (mô hình Linear Regression dùng Count Vectorizer) và `tr_tv_li` (mô hình Linear Regression dùng Tfidf Vectorizer) về 2 giá trị 0 và 1"
   ]
  },
  {
   "cell_type": "code",
   "execution_count": 13,
   "metadata": {},
   "outputs": [
    {
     "data": {
      "text/html": [
       "<div>\n",
       "<style scoped>\n",
       "    .dataframe tbody tr th:only-of-type {\n",
       "        vertical-align: middle;\n",
       "    }\n",
       "\n",
       "    .dataframe tbody tr th {\n",
       "        vertical-align: top;\n",
       "    }\n",
       "\n",
       "    .dataframe thead th {\n",
       "        text-align: right;\n",
       "    }\n",
       "</style>\n",
       "<table border=\"1\" class=\"dataframe\">\n",
       "  <thead>\n",
       "    <tr style=\"text-align: right;\">\n",
       "      <th></th>\n",
       "      <th>tr_cv_li</th>\n",
       "      <th>tr_cv_lo</th>\n",
       "      <th>tr_cv_dt</th>\n",
       "      <th>tr_cv_rf</th>\n",
       "      <th>tr_tv_li</th>\n",
       "      <th>tr_tv_lo</th>\n",
       "      <th>tr_tv_dt</th>\n",
       "      <th>tr_tv_rf</th>\n",
       "    </tr>\n",
       "  </thead>\n",
       "  <tbody>\n",
       "    <tr>\n",
       "      <th>218</th>\n",
       "      <td>0</td>\n",
       "      <td>0</td>\n",
       "      <td>0</td>\n",
       "      <td>0</td>\n",
       "      <td>0</td>\n",
       "      <td>0</td>\n",
       "      <td>0</td>\n",
       "      <td>0</td>\n",
       "    </tr>\n",
       "    <tr>\n",
       "      <th>219</th>\n",
       "      <td>0</td>\n",
       "      <td>0</td>\n",
       "      <td>0</td>\n",
       "      <td>0</td>\n",
       "      <td>0</td>\n",
       "      <td>0</td>\n",
       "      <td>0</td>\n",
       "      <td>0</td>\n",
       "    </tr>\n",
       "    <tr>\n",
       "      <th>220</th>\n",
       "      <td>0</td>\n",
       "      <td>0</td>\n",
       "      <td>0</td>\n",
       "      <td>0</td>\n",
       "      <td>0</td>\n",
       "      <td>0</td>\n",
       "      <td>0</td>\n",
       "      <td>0</td>\n",
       "    </tr>\n",
       "    <tr>\n",
       "      <th>221</th>\n",
       "      <td>0</td>\n",
       "      <td>0</td>\n",
       "      <td>0</td>\n",
       "      <td>0</td>\n",
       "      <td>0</td>\n",
       "      <td>0</td>\n",
       "      <td>0</td>\n",
       "      <td>0</td>\n",
       "    </tr>\n",
       "    <tr>\n",
       "      <th>222</th>\n",
       "      <td>0</td>\n",
       "      <td>0</td>\n",
       "      <td>0</td>\n",
       "      <td>0</td>\n",
       "      <td>0</td>\n",
       "      <td>0</td>\n",
       "      <td>0</td>\n",
       "      <td>0</td>\n",
       "    </tr>\n",
       "  </tbody>\n",
       "</table>\n",
       "</div>"
      ],
      "text/plain": [
       "     tr_cv_li  tr_cv_lo  tr_cv_dt  tr_cv_rf  tr_tv_li  tr_tv_lo  tr_tv_dt  \\\n",
       "218         0         0         0         0         0         0         0   \n",
       "219         0         0         0         0         0         0         0   \n",
       "220         0         0         0         0         0         0         0   \n",
       "221         0         0         0         0         0         0         0   \n",
       "222         0         0         0         0         0         0         0   \n",
       "\n",
       "     tr_tv_rf  \n",
       "218         0  \n",
       "219         0  \n",
       "220         0  \n",
       "221         0  \n",
       "222         0  "
      ]
     },
     "execution_count": 13,
     "metadata": {},
     "output_type": "execute_result"
    }
   ],
   "source": [
    "prediction['tr_cv_li'] = prediction['tr_cv_li'].round().astype(int)\n",
    "prediction['tr_tv_li'] = prediction['tr_tv_li'].round().astype(int)\n",
    "pd.DataFrame(prediction).tail(5)"
   ]
  },
  {
   "cell_type": "markdown",
   "metadata": {},
   "source": [
    "Có vẻ các cột đều có các giá trị dạng **binary outcome**"
   ]
  },
  {
   "cell_type": "markdown",
   "metadata": {},
   "source": [
    "---"
   ]
  },
  {
   "cell_type": "markdown",
   "metadata": {},
   "source": [
    "### Đánh giá mô hình bằng Confusion Matrix\n",
    "\n",
    "Do nhược điểm của **Accuracy Score** là chỉ cho biết độ chính xác khi dự đoán mô hình, nhưng không thể hiện mô hình đang dự đoán sai như thế nào nên ta sẽ sử dụng **Confusion Matrix** để đánh giá độ chính xác của mô hình được phân theo các lớp. Thuộc tính được chọn làm lớp là `labels` nên ta sẽ thể hiện mỗi mô hình bằng một ma trận thể hiện số lượng điểm dữ liệu thuộc vào một lớp và được dự đoán thuộc vào lớp đó.\n",
    "\n",
    "Định nghĩa hàm `models_evaluation` nhận các tham số\n",
    "- `y_preds`: các kết quả dự đoán của các mô hình được lấy từ hàm `generate_models` ở trên (dictionary)\n",
    "- `y_true`: nhãn `label` từ tập dữ liệu gốc (Series)\n",
    "\n",
    "Công việc của hàm `models_evaluation`: \n",
    "- Duyệt từng các kết quả dự đoán của các loại mô hình (`y_pred`), với mỗi mô hình cần thực hiện các công việc sau:\n",
    "    - Tính số lượng các giá trị trong mỗi phân lớp (ở đây ta định nghĩa Positive = real và Negative = fake), các tham số đó là:\n",
    "        - **TN:** các dự đoán cho ra kết quả `fake` giống với kết quả thực tế `fake` (True Negative)\n",
    "        - **FP:** các dự đoán cho ra kết quả `real` khác với kết quả thực tế là `fake` (False Positive)\n",
    "        - **FN:** các dự đoán cho ra kết quả `fake` khác với kết quả thực tế là `real` (False Negative)\n",
    "        - **TP:** các dự đoán cho ra kết quả `real` giống với kết quả thực tế `real` (True Positive)\n",
    "    - Lưu các tham số này vào dataframe có kích thước **2 dòng x 2 cột** và đặt tên 2 cột là `real` và `fake`\n",
    "\n",
    "- Kết quả trả về của hàm là danh sách các dataframe ứng với mỗi loại mô hình và được lưu vào biến `confusion_matrix_df`. Với từng phương thức vector hóa và từng mô hình, tổng cộng ta có 8 **Confusion Matrix**"
   ]
  },
  {
   "cell_type": "code",
   "execution_count": 14,
   "metadata": {},
   "outputs": [],
   "source": [
    "def confusion_matrix_evaluation(y_true: pd.Series, y_preds: dict): \n",
    "    confusion_matrix_df = []\n",
    "    \n",
    "    for y_pred in y_preds.values():        \n",
    "        # tính số lượng các giá trị trong mỗi phân lớp\n",
    "        TN, FP, FN, TP = confusion_matrix(y_pred, y_true).ravel()\n",
    "        \n",
    "        # lưu vào dataframe\n",
    "        df = pd.DataFrame(data=np.array([[TP, FN], [FP, TN]]), index=['real','fake'], columns=['real','fake'])\n",
    "        confusion_matrix_df.append(df)\n",
    "\n",
    "    return confusion_matrix_df"
   ]
  },
  {
   "cell_type": "code",
   "execution_count": 15,
   "metadata": {},
   "outputs": [],
   "source": [
    "y_true_tmp = news_df['label']\n",
    "y_preds_tmp = prediction.copy()\n",
    "confusion_matrix_df = confusion_matrix_evaluation(y_true_tmp, y_preds_tmp)"
   ]
  },
  {
   "cell_type": "markdown",
   "metadata": {},
   "source": [
    "Cuối cùng, ta sẽ thể hiện 8 **Confusion Matrix** bằng đồ thị heatmap ứng với mỗi loại mô hình và mỗi loại vectorizer"
   ]
  },
  {
   "cell_type": "code",
   "execution_count": 16,
   "metadata": {},
   "outputs": [
    {
     "data": {
      "image/png": "[encoded data removed]",
      "text/plain": [
       "<Figure size 1080x720 with 8 Axes>"
      ]
     },
     "metadata": {},
     "output_type": "display_data"
    }
   ],
   "source": [
    "prep = [p for p in preprocessors]\n",
    "vect = [v for v in vectorizers]\n",
    "clas = [c for c in classifiers]\n",
    "\n",
    "fig, axarr = plt.subplots(2,4, figsize=(15,10), facecolor='black')\n",
    "\n",
    "for i in range(1):\n",
    "    for j in range(2):\n",
    "        for k in range(4):\n",
    "            plt.sca(axarr[j, k])\n",
    "            ax = sns.heatmap(confusion_matrix_df[4*j+k], square=True, annot=True, cbar=False, fmt='.2f', cmap='Blues')\n",
    "            ax.xaxis.tick_top()\n",
    "            ax.xaxis.set_label_position('top')\n",
    "\n",
    "            # set title + labels\n",
    "            plt.title(prep[i] + '_' + vect[j] + '_' + clas[k], fontdict={'color': 'r'}, y=-0.1)\n",
    "            plt.xlabel('prediction')\n",
    "            plt.ylabel('actual')\n",
    "            \n",
    "            # set colors\n",
    "            ax.xaxis.label.set_color('white')\n",
    "            ax.yaxis.label.set_color('white')\n",
    "            ax.tick_params(axis='x', colors='white')    \n",
    "            ax.tick_params(axis='y', colors='white');"
   ]
  },
  {
   "cell_type": "markdown",
   "metadata": {},
   "source": [
    "**Kết luận:** Xét trường hợp sử dụng tập test là tập huấn luyện, đa số các mô hình ứng với các loại vectorizer đều cho ra kết quả dự đoán chính xác, ngoại trừ mô hình LogisticRegression sử dụng Tfidf Vectorizer có dự đoán sai đối với các kết quả `fake` nhưng thực tế là `real`."
   ]
  },
  {
   "cell_type": "markdown",
   "metadata": {},
   "source": [
    "# IV. Deploy mô hình"
   ]
  },
  {
   "cell_type": "markdown",
   "metadata": {},
   "source": [
    "- Phần này sử dụng thư viện Streamlit và làm trong file `app.py`"
   ]
  }
 ],
 "metadata": {
  "interpreter": {
   "hash": "dcacb0086e9a4f4eabd41c33bf4faac5ea0a3337ed3f5eff0680afa930572c04"
  },
  "kernelspec": {
   "display_name": "Python 3 (ipykernel)",
   "language": "python",
   "name": "python3"
  },
  "language_info": {
   "codemirror_mode": {
    "name": "ipython",
    "version": 3
   },
   "file_extension": ".py",
   "mimetype": "text/x-python",
   "name": "python",
   "nbconvert_exporter": "python",
   "pygments_lexer": "ipython3",
   "version": "3.8.8"
  }
 },
 "nbformat": 4,
 "nbformat_minor": 2
}
