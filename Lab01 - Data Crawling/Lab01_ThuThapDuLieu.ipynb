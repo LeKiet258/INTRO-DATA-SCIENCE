{
 "cells": [
  {
   "cell_type": "markdown",
   "id": "8c350258",
   "metadata": {},
   "source": [
    "## Lab01: Thu thập dữ liệu\n",
    "\n",
    "- Họ tên: Lê Kiệt\n",
    "- MSSV: 19120554"
   ]
  },
  {
   "cell_type": "markdown",
   "id": "86184052",
   "metadata": {
    "deletable": false,
    "editable": false,
    "nbgrader": {
     "cell_type": "markdown",
     "checksum": "b3cd937e6f4be059559d1fe1dff85e82",
     "grade": false,
     "grade_id": "Instruction",
     "locked": true,
     "schema_version": 3,
     "solution": false,
     "task": false
    }
   },
   "source": [
    "***\n",
    "## Cách làm bài và nộp bài\n",
    "\n",
    "&#9889; Bạn lưu ý là mình sẽ dùng chương trình hỗ trợ chấm bài nên bạn cần phải tuân thủ chính xác qui định mà mình đặt ra, nếu không rõ thì hỏi, chứ không nên tự tiện làm theo ý của cá nhân.\n",
    "\n",
    "**Cách làm bài**\n",
    "\n",
    "Bạn sẽ làm trực tiếp trên file notebook này. Đầu tiên, bạn điền họ tên và MSSV vào phần đầu file ở bên trên. Trong file, bạn làm bài ở những chỗ có ghi là:\n",
    "\n",
    "```python\n",
    "# YOUR CODE HERE\n",
    "raise NotImplementedError()\n",
    "```\n",
    "\n",
    "Khi làm thì bạn xóa dòng `raise NotImplementedError()` đi.\n",
    "Đối những phần yêu cầu code thì thường ở ngay phía dưới sẽ có một (hoặc một số) cell chứa các bộ test để giúp bạn biết đã code đúng hay chưa. Nếu chạy cell này không có lỗi gì thì có nghĩa là qua được các bộ test. \n",
    "\n",
    "Trong một số trường hợp, các bộ test có thể sẽ không đầy đủ, nghĩa là, nếu không qua được test thì là code sai, nhưng nếu qua được test thì chưa chắc đã đúng.\n",
    "\n",
    "Trong khi làm bài, bạn có thể cho in ra màn hình, tạo thêm các cell để test. Nhưng khi nộp bài thì bạn xóa các cell mà bạn tự tạo, xóa hoặc comment các câu lệnh in ra màn hình. Bạn lưu ý <font color=red>không được tự tiện xóa các cell hay sửa code của mình </font> (trừ những chỗ được phép sửa như đã nói ở trên).\n",
    "\n",
    "Trong khi làm bài, thường xuyên `Ctrl + S` để lưu lại bài làm của bạn, tránh mất mát thông tin.\n",
    "\n",
    "*Nên nhớ mục tiêu chính ở đây là <font color=green>học, học một cách chân thật</font>. Bạn có thể thảo luận ý tưởng với bạn khác cũng như tham khảo các nguồn trên mạng, nhưng sau cùng <font color=green>code và bài làm phải là của bạn, dựa trên sự hiểu thật sự của bạn</font>. Khi tham khảo các nguồn trên mạng thì bạn cần ghi rõ nguồn trong bài làm. Bạn không được tham khảo bài làm của các bạn năm trước (vì nếu làm vậy thì bao giờ bạn mới có thể tự mình suy nghĩ để giải quyết vấn đề); sau khi kết thúc môn học, bạn cũng không được đưa bài làm cho các bạn khóa sau hoặc public bài làm trên Github (vì nếu làm vậy thì sẽ ảnh hưởng tới việc học của các bạn khóa sau). Nếu bạn có thể làm theo những gì mình nói thì điểm của bạn có thể sẽ không cao nhưng bạn sẽ có được những bước tiến thật sự. <font color=red>Trong trường hợp bạn vi phạm những điều mình nói ở trên thì sẽ bị 0 điểm cho toàn bộ môn học.</font>*\n",
    "\n",
    "**Cách nộp bài**\n",
    "\n",
    "Khi chấm bài, đầu tiên mình sẽ chọn `Kernel` - `Restart Kernel & Run All Cells`, để restart và chạy tất cả các cell trong notebook của bạn; do đó, trước khi nộp bài, bạn nên chạy thử `Kernel` - `Restart Kernel & Run All Cells` để đảm bảo mọi chuyện diễn ra đúng như mong đợi.\n",
    "\n",
    "Sau đó, bạn tạo thư mục nộp bài theo cấu trúc sau:\n",
    "- Thư mục `MSSV` (vd, nếu bạn có MSSV là 1234567 thì bạn đặt tên thư mục là `1234567`)\n",
    "    - Thư mục `Lab01_ThuThapDuLieu`\n",
    "        - File `Lab01_ThuThapDuLieu.ipynb` (không cần nộp các file khác)\n",
    "\n",
    "Cuối cùng, bạn nén thư mục `MSSV` này lại và nộp ở link trên moodle. **Đuôi của file nén phải là .zip (chứ không được .rar hay gì khác).**\n",
    "\n",
    "<font color=red>Bạn lưu ý tuân thủ chính xác qui định nộp bài ở trên.</font>"
   ]
  },
  {
   "cell_type": "markdown",
   "id": "d1e86967",
   "metadata": {
    "deletable": false,
    "editable": false,
    "nbgrader": {
     "cell_type": "markdown",
     "checksum": "8c59fe223512dd794062ab5d34b024c3",
     "grade": false,
     "grade_id": "cell-f5a4dcc7e0c6825f",
     "locked": true,
     "schema_version": 3,
     "solution": false,
     "task": false
    }
   },
   "source": [
    "## Môi trường code\n",
    "\n",
    "Ta thống nhất trong môn này: dùng phiên bản các package như trong file \"min_ds-env.yml\" \n",
    "\n",
    "Cách tạo ra môi trường code từ file \"min_ds-env.yml\" đã được nói ở file \"02_BeforeClass-Notebook_Python.pdf\"."
   ]
  },
  {
   "cell_type": "markdown",
   "id": "cd8839d1",
   "metadata": {
    "deletable": false,
    "editable": false,
    "nbgrader": {
     "cell_type": "markdown",
     "checksum": "9d769adadd1492ed0cf26c31d9d3e1e4",
     "grade": false,
     "grade_id": "cell-50ab6aeed9f9715b",
     "locked": true,
     "schema_version": 3,
     "solution": false,
     "task": false
    }
   },
   "source": [
    "Check môi trường code:"
   ]
  },
  {
   "cell_type": "code",
   "execution_count": 1,
   "id": "66935303",
   "metadata": {},
   "outputs": [
    {
     "data": {
      "text/plain": [
       "'/home/lekiet/miniconda3/envs/min_ds-env/bin/python'"
      ]
     },
     "execution_count": 1,
     "metadata": {},
     "output_type": "execute_result"
    }
   ],
   "source": [
    "import sys\n",
    "sys.executable"
   ]
  },
  {
   "cell_type": "markdown",
   "id": "c53b2b5e",
   "metadata": {
    "deletable": false,
    "editable": false,
    "nbgrader": {
     "cell_type": "markdown",
     "checksum": "a78be7e5b09cf875355f440626c599b8",
     "grade": false,
     "grade_id": "cell-61f979350783498a",
     "locked": true,
     "schema_version": 3,
     "solution": false,
     "task": false
    }
   },
   "source": [
    "Nếu không có vấn đề gì thì file chạy python sẽ là file của môi trường code \"min_ds-env\"."
   ]
  },
  {
   "cell_type": "markdown",
   "id": "57253339",
   "metadata": {
    "deletable": false,
    "editable": false,
    "nbgrader": {
     "cell_type": "markdown",
     "checksum": "a3b25e30b083c1f23fa5a7b5dfdf49b3",
     "grade": false,
     "grade_id": "Import",
     "locked": true,
     "schema_version": 3,
     "solution": false,
     "task": false
    }
   },
   "source": [
    "***\n",
    "## Import"
   ]
  },
  {
   "cell_type": "code",
   "execution_count": 4,
   "id": "14410d61",
   "metadata": {},
   "outputs": [],
   "source": [
    "import requests\n",
    "import requests_cache\n",
    "from bs4 import BeautifulSoup\n",
    "import time\n",
    "import json\n",
    "import re\n",
    "import pandas as pd # Dùng để đọc và hiển thị file csv/tsv\n",
    "from datetime import datetime, timedelta # Dùng để xử lý dữ liệu thời gian\n",
    "# YOUR CODE HERE (OPTION) \n",
    "# Nếu cần các thư viện khác thì bạn có thể import ở đây"
   ]
  },
  {
   "cell_type": "markdown",
   "id": "9d0459fb",
   "metadata": {
    "deletable": false,
    "editable": false,
    "nbgrader": {
     "cell_type": "markdown",
     "checksum": "542a207b1739edf7a9ec05668cf1b825",
     "grade": false,
     "grade_id": "cell-53693f2568fd9007",
     "locked": true,
     "schema_version": 3,
     "solution": false,
     "task": false
    }
   },
   "source": [
    "---"
   ]
  },
  {
   "cell_type": "markdown",
   "id": "a55e1f08",
   "metadata": {
    "deletable": false,
    "editable": false,
    "nbgrader": {
     "cell_type": "markdown",
     "checksum": "5bf467c65efa26fdcb81a81e337fff1e",
     "grade": false,
     "grade_id": "Setup",
     "locked": true,
     "schema_version": 3,
     "solution": false,
     "task": false
    }
   },
   "source": [
    "## Setup ở mức toàn cục (1đ)"
   ]
  },
  {
   "cell_type": "markdown",
   "id": "d4d73f26",
   "metadata": {
    "deletable": false,
    "editable": false,
    "nbgrader": {
     "cell_type": "markdown",
     "checksum": "376918275a6572252d0de0a49616bc64",
     "grade": false,
     "grade_id": "cell-d392b6a5cd6fcb1b",
     "locked": true,
     "schema_version": 3,
     "solution": false,
     "task": false
    }
   },
   "source": [
    "Trong bài này, sẽ có hai bài con: một bài là thu thập dữ liệu từ web bằng cách parse HTML, một bài là dùng web API. \n",
    "- Khi parse HTML, để tránh \"hit\" trang web nhiều lần trong một khoảng thời gian ngắn thì bạn sẽ cho chương trình sleep giữa các lần thực hiện request. \n",
    "- Khi dùng web API thì không cần cho sleep giữa các lần thực hiện request nhưng sẽ cần sleep ở một chỗ khác (ở chỗ nào thì sẽ rõ khi đến phần dùng web API). \n",
    "\n",
    "Tóm lại là: trong các phần code mà bạn sắp sửa làm thì sẽ cần cho chương trình sleep. Như vậy, đầu tiên, bạn sẽ setup biến `sleep_time` toàn cục (nói là toàn cục nhưng thật ra chỉ cần biến bình thường thôi) để qui định số giây mà chương trình sẽ sleep (trong bài này cho 1 giây). Trong các hàm thì bạn có thể truy xuất được biến `sleep_time` này. Vì phần này rất khó nên mình sẽ làm luôn cho bạn ;-)."
   ]
  },
  {
   "cell_type": "code",
   "execution_count": 5,
   "id": "a74eab13",
   "metadata": {},
   "outputs": [],
   "source": [
    "sleep_time = 1 # Đơn vị: giây"
   ]
  },
  {
   "cell_type": "markdown",
   "id": "714d364e",
   "metadata": {
    "deletable": false,
    "editable": false,
    "nbgrader": {
     "cell_type": "markdown",
     "checksum": "467d5951c69f385d66ec4d585523f69c",
     "grade": false,
     "grade_id": "cell-444a2c3fdf736d5e",
     "locked": true,
     "schema_version": 3,
     "solution": false,
     "task": false
    }
   },
   "source": [
    "Xong rồi đó ;-)."
   ]
  },
  {
   "cell_type": "markdown",
   "id": "649d69e2",
   "metadata": {
    "deletable": false,
    "editable": false,
    "nbgrader": {
     "cell_type": "markdown",
     "checksum": "92428b67ac2145f1395dc937798ae82b",
     "grade": false,
     "grade_id": "cell-18ab895308b9210c",
     "locked": true,
     "schema_version": 3,
     "solution": false,
     "task": false
    }
   },
   "source": [
    "Ngoài biến `sleep_time` thì bạn cũng cần setup/install cache để giúp giảm số lần phải lấy dữ liệu từ trên mạng xuống. Bạn setup cache như sau:\n",
    "\n",
    "- Cho thời gian hết hạn cache là không bao giờ hết hạn.\n",
    "- Không cache những response (kết quả khi thực hiện `requests.get`) mà trong thuộc tính `text` có chứa chuỗi `\"incomplete_results\":true` (tại sao làm như vậy thì sẽ rõ khi đến phần dùng web API). \n",
    "\n",
    "Gợi ý: trong hàm `requests_cache.install_cache` có tham số `filter_fn`; bạn có thể truyền vào tham số này một hàm mà có input là đối tượng response và trả về True nếu bạn muốn cache lại và False nếu không muốn."
   ]
  },
  {
   "cell_type": "code",
   "execution_count": 6,
   "id": "9cce2d26",
   "metadata": {
    "deletable": false,
    "nbgrader": {
     "cell_type": "code",
     "checksum": "514907f32a3102466a175def1bd679d2",
     "grade": false,
     "grade_id": "TODO1",
     "locked": false,
     "schema_version": 3,
     "solution": true,
     "task": false
    }
   },
   "outputs": [],
   "source": [
    "# YOUR CODE HERE\n",
    "requests_cache.install_cache(\n",
    "    cache_name='cache',\n",
    "    filter_fn = lambda x: x.text.find('\"incomplete_results\":true') == -1 #nếu ko có 'incom...:true' -> cache lại\n",
    ")"
   ]
  },
  {
   "cell_type": "code",
   "execution_count": 5,
   "id": "b5088582",
   "metadata": {
    "deletable": false,
    "editable": false,
    "nbgrader": {
     "cell_type": "code",
     "checksum": "88ecc5db2d91d503da018ac49ae96e40",
     "grade": true,
     "grade_id": "MARKTODO1",
     "locked": true,
     "points": 1,
     "schema_version": 3,
     "solution": false,
     "task": false
    }
   },
   "outputs": [
    {
     "name": "stdout",
     "output_type": "stream",
     "text": [
      "Text from url1:\n",
      "abc\n",
      "xyz\n",
      "\"incomplete_results\":false\n",
      "\n",
      "---\n",
      "Text from url2:\n",
      "abc\n",
      "xyz\n",
      "\"incomplete_results\":true\n",
      "\n"
     ]
    }
   ],
   "source": [
    "# TEST\n",
    "url1 = 'https://raw.githubusercontent.com/KienTrann/requests-cache-testing/main/should_be_cached.txt'\n",
    "r = requests.get(url1) # Thực hiện request lần 1\n",
    "r = requests.get(url1) # Thực hiện request lần 2\n",
    "print(f'Text from url1:\\n{r.text}')\n",
    "assert r.from_cache == True\n",
    "\n",
    "url2 = 'https://raw.githubusercontent.com/KienTrann/requests-cache-testing/main/should_not_be_cached.txt'\n",
    "r = requests.get(url2) # Thực hiện request lần 1\n",
    "r = requests.get(url2) # Thực hiện request lần 2\n",
    "print('---')\n",
    "print(f'Text from url2:\\n{r.text}')\n",
    "assert r.from_cache == False\n"
   ]
  },
  {
   "cell_type": "markdown",
   "id": "18b56cbc",
   "metadata": {
    "deletable": false,
    "editable": false,
    "nbgrader": {
     "cell_type": "markdown",
     "checksum": "482f6c88fa6f54f78fb6dadd4953367f",
     "grade": false,
     "grade_id": "cell-57dc5f409407bb94",
     "locked": true,
     "schema_version": 3,
     "solution": false,
     "task": false
    }
   },
   "source": [
    "---"
   ]
  },
  {
   "cell_type": "markdown",
   "id": "d0b2c0fc",
   "metadata": {
    "deletable": false,
    "editable": false,
    "nbgrader": {
     "cell_type": "markdown",
     "checksum": "3ba8e5453ce02f7c87bec09ca2f13bb8",
     "grade": false,
     "grade_id": "HTML",
     "locked": true,
     "schema_version": 3,
     "solution": false,
     "task": false
    }
   },
   "source": [
    "## Thu thập dữ liệu từ web bằng cách parse HTML (4đ)"
   ]
  },
  {
   "cell_type": "markdown",
   "id": "23f46d94",
   "metadata": {
    "deletable": false,
    "editable": false,
    "nbgrader": {
     "cell_type": "markdown",
     "checksum": "763f0f6de2e58ce32a74ee41adbd27ee",
     "grade": false,
     "grade_id": "cell-82e6b20948db27a5",
     "locked": true,
     "schema_version": 3,
     "solution": false,
     "task": false
    }
   },
   "source": [
    "[Coursera](https://coursera.org) là trang cung cấp các khóa học online, là một nguồn tài liệu hữu ích để học tập. Trong phần này, bạn sẽ thu thập dữ liệu về các khóa học ở Coursera về một chủ đề nào đó. Mình có check [\"Terms of Use\" của Coursera](https://www.coursera.org/about/terms) thì không thấy nói rõ là cấm parse HTML (bạn check lại thử xem); với mục đích học thì chắc là không có vấn đề gì lớn, miễn là chương trình của bạn đừng \"hit\" trang web quá nhiều lần trong một khoảng thời gian ngắn. \n",
    "\n",
    "Công việc cụ thể của bạn trong phần này là viết hàm `collect_courses` ở bên dưới. Hàm này có các input như sau:\n",
    "- `course_urls_file`: là chuỗi, cho biết tên của file txt chứa các đường link đến tất cả khóa học của Coursera, mỗi đường link nằm trên một dòng; bạn sẽ đi theo đường link để lấy thông tin của khóa học. File này đã được cung cấp cho bạn: file \"course_urls.txt\" (mình tạo ra file này bằng cách parse [trang XML này](https://www.coursera.org/sitemap~www~courses.xml)).\n",
    "- `key_words`: là list, cho biết các từ khóa để lọc ra các link cần lấy. Ví dụ: `key_words=['data-science', 'datascience']` sẽ chỉ thu thập thông tin từ các link mà có từ \"data-science\" HOẶC \"datascience\" (có ở tên đường link, chẳng hạn: https://www.coursera.org/learn/spatial-data-science).\n",
    "- `courses_file`: là chuỗi, cho biết tên của file tsv dùng để lưu dữ liệu thu thập được; đây là file output (file này không có sẵn mà sẽ được tạo ra sau khi chạy hàm của bạn). Mình có cung cấp file output đúng \"correct_courses.tsv\" (khi gọi hàm `collect_courses` với `key_words=['data-science', 'datascience']`) để bạn hình dung được nội dung cần có của file output. File này có các phần tử trên mỗi dòng được phân tách nhau bởi tab (`\\t`), và file này mã hóa utf-8. File này gồm có các cột:\n",
    "    - `url`: đường link đến khóa học.\n",
    "    - `title`: tựa đề của khóa học.\n",
    "    - `provider`: trường cung cấp khóa học.\n",
    "    - `rating`: điểm số của khóa học (tại thời điểm bạn thu thập dữ liệu thì giá trị của cột này có thể sẽ hơi khác so với file output đúng của mình, trong trường hợp chưa có ai rate khóa học thì bạn có thể cho `rating` bằng `None`).\n",
    "    - `num_ratings`: số lượng người đã cho điểm cho khóa học (tại thời điểm bạn thu thập dữ liệu thì giá trị của cột này có thể sẽ hơi khác so với file output đúng của mình, trong trường hợp chưa có ai rate khóa học thì bạn có thể cho `num_rating` bằng `None`).\n",
    "\n",
    "Trong hàm này, khi thực hiện một request, nếu kết quả không được lấy từ cache thì bạn cần cho chương trình sleep rồi mới tiếp tục."
   ]
  },
  {
   "cell_type": "code",
   "execution_count": 6,
   "id": "e1b66bd5",
   "metadata": {
    "deletable": false,
    "editable": false,
    "nbgrader": {
     "cell_type": "code",
     "checksum": "116b34c3c9491ed021fbea69c9ff9f0f",
     "grade": false,
     "grade_id": "cell-4f3d8348a66a1f1b",
     "locked": true,
     "schema_version": 3,
     "solution": false,
     "task": false
    }
   },
   "outputs": [
    {
     "data": {
      "text/html": [
       "<div>\n",
       "<style scoped>\n",
       "    .dataframe tbody tr th:only-of-type {\n",
       "        vertical-align: middle;\n",
       "    }\n",
       "\n",
       "    .dataframe tbody tr th {\n",
       "        vertical-align: top;\n",
       "    }\n",
       "\n",
       "    .dataframe thead th {\n",
       "        text-align: right;\n",
       "    }\n",
       "</style>\n",
       "<table border=\"1\" class=\"dataframe\">\n",
       "  <thead>\n",
       "    <tr style=\"text-align: right;\">\n",
       "      <th></th>\n",
       "      <th>url</th>\n",
       "      <th>title</th>\n",
       "      <th>provider</th>\n",
       "      <th>rating</th>\n",
       "      <th>num_ratings</th>\n",
       "    </tr>\n",
       "  </thead>\n",
       "  <tbody>\n",
       "    <tr>\n",
       "      <th>0</th>\n",
       "      <td>https://www.coursera.org/learn/advanced-clinic...</td>\n",
       "      <td>Advanced Clinical Data Science</td>\n",
       "      <td>University of Colorado System</td>\n",
       "      <td>None</td>\n",
       "      <td>None</td>\n",
       "    </tr>\n",
       "    <tr>\n",
       "      <th>1</th>\n",
       "      <td>https://www.coursera.org/learn/advanced-data-s...</td>\n",
       "      <td>Advanced Data Science Capstone</td>\n",
       "      <td>IBM</td>\n",
       "      <td>4.6</td>\n",
       "      <td>360</td>\n",
       "    </tr>\n",
       "    <tr>\n",
       "      <th>2</th>\n",
       "      <td>https://www.coursera.org/learn/applied-data-sc...</td>\n",
       "      <td>Applied Data Science Capstone</td>\n",
       "      <td>IBM</td>\n",
       "      <td>4.7</td>\n",
       "      <td>5,549</td>\n",
       "    </tr>\n",
       "    <tr>\n",
       "      <th>3</th>\n",
       "      <td>https://www.coursera.org/learn/applied-data-sc...</td>\n",
       "      <td>كابستون علوم البيانات التطبيقية</td>\n",
       "      <td>IBM</td>\n",
       "      <td>None</td>\n",
       "      <td>None</td>\n",
       "    </tr>\n",
       "    <tr>\n",
       "      <th>4</th>\n",
       "      <td>https://www.coursera.org/learn/applied-data-sc...</td>\n",
       "      <td>Applied Data Science for Data Analysts</td>\n",
       "      <td>Databricks</td>\n",
       "      <td>4.2</td>\n",
       "      <td>24</td>\n",
       "    </tr>\n",
       "  </tbody>\n",
       "</table>\n",
       "</div>"
      ],
      "text/plain": [
       "                                                 url  \\\n",
       "0  https://www.coursera.org/learn/advanced-clinic...   \n",
       "1  https://www.coursera.org/learn/advanced-data-s...   \n",
       "2  https://www.coursera.org/learn/applied-data-sc...   \n",
       "3  https://www.coursera.org/learn/applied-data-sc...   \n",
       "4  https://www.coursera.org/learn/applied-data-sc...   \n",
       "\n",
       "                                    title                       provider  \\\n",
       "0          Advanced Clinical Data Science  University of Colorado System   \n",
       "1          Advanced Data Science Capstone                            IBM   \n",
       "2           Applied Data Science Capstone                            IBM   \n",
       "3         كابستون علوم البيانات التطبيقية                            IBM   \n",
       "4  Applied Data Science for Data Analysts                     Databricks   \n",
       "\n",
       "  rating num_ratings  \n",
       "0   None        None  \n",
       "1    4.6        360   \n",
       "2    4.7      5,549   \n",
       "3   None        None  \n",
       "4    4.2         24   "
      ]
     },
     "execution_count": 6,
     "metadata": {},
     "output_type": "execute_result"
    }
   ],
   "source": [
    "# Xem 5 dòng đầu của file \"correct_courses.tsv\"\n",
    "df = pd.read_csv('correct_courses.tsv', sep='\\t')\n",
    "df.head()"
   ]
  },
  {
   "cell_type": "code",
   "execution_count": 8,
   "id": "027f8ffd",
   "metadata": {
    "deletable": false,
    "nbgrader": {
     "cell_type": "code",
     "checksum": "8db7fce42a6f51e07825789cc90c95fe",
     "grade": false,
     "grade_id": "TODO2",
     "locked": false,
     "schema_version": 3,
     "solution": true,
     "task": false
    }
   },
   "outputs": [],
   "source": [
    "def collect_courses(course_urls_file, key_words, courses_file):\n",
    "    \n",
    "    # YOUR CODE HERE\n",
    "    with open(course_urls_file) as f:\n",
    "        filterd_courses_url = []\n",
    "        \n",
    "        for line in f:\n",
    "            if(line != ' ' and any(kw in line for kw in key_words)):\n",
    "                filterd_courses_url.append(line[:-1]) #take the string without '\\n' at the end of the string \n",
    "\n",
    "    results = []\n",
    "    for url in filterd_courses_url:\n",
    "        time.sleep(sleep_time)\n",
    "        res = [url]\n",
    "        r = requests.get(url)\n",
    "        soup = BeautifulSoup(r.content, 'html.parser')\n",
    "        \n",
    "        title = soup.find('h1', attrs={'data-e2e':'xdp-banner-title'})\n",
    "        title = title.text\n",
    "        res.append(title)\n",
    "\n",
    "        provider = soup.find_all('h3', attrs= {'class':'headline-4-text bold rc-Partner__title'})\n",
    "        provider = [x.text for x in provider] #take the .text of each tag found\n",
    "        provider = ' '.join(provider) #join all of them into a string \n",
    "        res.append(provider) \n",
    "\n",
    "        rating = soup.find('span', attrs= {'data-test':'number-star-rating'})\n",
    "        rating = 'None' if rating == None else rating.text.replace('stars', '')\n",
    "        res.append(rating)   \n",
    "\n",
    "        num_rating = soup.find('span', attrs={'data-test':'ratings-count-without-asterisks'})\n",
    "        num_rating = 'None' if num_rating == None else num_rating.text.split(' ')[0]\n",
    "        res.append(num_rating)\n",
    "\n",
    "        results.append(res)\n",
    "\n",
    "    #write to file 'output.txt'    \n",
    "    dframe = pd.DataFrame(results)\n",
    "    dframe.to_csv(courses_file, sep= '\\t', header= ['url','title','provider','rating','num_ratings'], index= False)"
   ]
  },
  {
   "cell_type": "code",
   "execution_count": 10,
   "id": "0823eb5b",
   "metadata": {
    "deletable": false,
    "editable": false,
    "nbgrader": {
     "cell_type": "code",
     "checksum": "09ef97797689cc176ebe328152a88129",
     "grade": true,
     "grade_id": "MARKTODO2",
     "locked": true,
     "points": 4,
     "schema_version": 3,
     "solution": false,
     "task": false
    }
   },
   "outputs": [],
   "source": [
    "# TEST\n",
    "collect_courses('course_urls.txt', ['data-science', 'datascience'], 'courses.tsv')\n",
    "courses = pd.read_csv('courses.tsv', sep='\\t')\n",
    "\n",
    "# Test số dòng và số cột\n",
    "assert courses.shape == (46, 5) \n",
    "\n",
    "# Test số lượng giá trị thiếu của rating\n",
    "assert (courses.rating == 'None').sum() >= 15 \n"
   ]
  },
  {
   "cell_type": "code",
   "execution_count": null,
   "id": "956b5784",
   "metadata": {
    "deletable": false,
    "editable": false,
    "nbgrader": {
     "cell_type": "code",
     "checksum": "b19d76a9406cf29723245b3f7723dc10",
     "grade": false,
     "grade_id": "cell-c897d4e6a3f4b9bd",
     "locked": true,
     "schema_version": 3,
     "solution": false,
     "task": false
    }
   },
   "outputs": [],
   "source": [
    "# TEST (bằng mắt)\n",
    "courses"
   ]
  },
  {
   "cell_type": "markdown",
   "id": "eae2fbfe",
   "metadata": {
    "deletable": false,
    "editable": false,
    "nbgrader": {
     "cell_type": "markdown",
     "checksum": "e0bcdefb065a66f8251766cac04e3c3f",
     "grade": false,
     "grade_id": "API",
     "locked": true,
     "schema_version": 3,
     "solution": false,
     "task": false
    }
   },
   "source": [
    "***\n",
    "## Thu thập dữ liệu từ web bằng cách dùng web API"
   ]
  },
  {
   "cell_type": "markdown",
   "id": "724513f2",
   "metadata": {
    "deletable": false,
    "editable": false,
    "nbgrader": {
     "cell_type": "markdown",
     "checksum": "c34075cfdf6524cbfe1ea77849cf0672",
     "grade": false,
     "grade_id": "cell-3906b9df6d46b0be",
     "locked": true,
     "schema_version": 3,
     "solution": false,
     "task": false
    }
   },
   "source": [
    "### Thu thập ít hơn hoặc bằng 1000 thùng chứa (2.5đ)"
   ]
  },
  {
   "cell_type": "markdown",
   "id": "d046d5bd",
   "metadata": {
    "deletable": false,
    "editable": false,
    "nbgrader": {
     "cell_type": "markdown",
     "checksum": "aadeeeb321dc62696b1879f33290ce20",
     "grade": false,
     "grade_id": "cell-31c70c80ae0b26fe",
     "locked": true,
     "schema_version": 3,
     "solution": false,
     "task": false
    }
   },
   "source": [
    "Đầu tiên, bạn sẽ viết hàm `collect_repositories` ở bên dưới. Hàm này có các input:\n",
    "- `start_date` và `end_date`: là chuỗi, cho biết là muốn tìm các thùng chứa được tạo từ ngày nào đến ngày nào (bao gồm cả 2 đầu). Ví dụ, `start_date='2017-01-01'` (năm-tháng-ngày) và `end_date='2017-01-31'`.\n",
    "- `keyword`: là chuỗi, cho biết là muốn tìm kiếm các thùng chứa với từ khóa nào (xuất hiện ở tên thùng chứa hoặc phần mô tả của thùng chứa). Ví dụ, `keyword='data science'`.\n",
    "- `per_page`: là số nguyên, cho biết là muốn bao nhiêu kết quả trên một page. Hiện giờ GitHub cho tối đa là `per_page=100`.\n",
    "\n",
    "Trong hàm này bạn sẽ vào đường link `f'https://api.github.com/search/repositories?q={keyword} created:{start_date}..{end_date}&per_page={per_page}'` (dạng f-string trong Python) để thu thập dữ liệu. Ví dụ, bạn có thể vào thử ở web browser: https://api.github.com/search/repositories?q=data%20science%20created:2017-01-01..2017-01-31&per_page=100 (khi nhập một đường link vào web browser và enter thì một số ký tự sẽ bị mã hóa; ví dụ khoảng trắng sẽ bị mã hóa là %20 hoặc +), hoặc dùng thư viện Requests:"
   ]
  },
  {
   "cell_type": "code",
   "execution_count": 12,
   "id": "2027dd59",
   "metadata": {
    "deletable": false,
    "editable": false,
    "nbgrader": {
     "cell_type": "code",
     "checksum": "7db42a81d34deb4f489f304446b440aa",
     "grade": false,
     "grade_id": "cell-404b41f0835c768d",
     "locked": true,
     "schema_version": 3,
     "solution": false,
     "task": false
    }
   },
   "outputs": [],
   "source": [
    "# Thư viện requests sẽ tự động mã hóa khoảng trắng cho bạn\n",
    "# Bạn có thể xem đường link sau khi đã mã hóa bằng câu lệnh: r.url\n",
    "r = requests.get('https://api.github.com/search/repositories?q=data science created:2017-01-01..2017-01-31&per_page=100')"
   ]
  },
  {
   "cell_type": "code",
   "execution_count": 13,
   "id": "9b3da109",
   "metadata": {
    "deletable": false,
    "editable": false,
    "nbgrader": {
     "cell_type": "code",
     "checksum": "6abd332e67104d1db91577bf461bfd95",
     "grade": false,
     "grade_id": "cell-173595e622a52396",
     "locked": true,
     "schema_version": 3,
     "solution": false,
     "task": false
    }
   },
   "outputs": [
    {
     "name": "stdout",
     "output_type": "stream",
     "text": [
      "{\"total_count\":1546,\"incomplete_results\":false,\"items\":[{\"id\":79030157,\"node_id\":\"MDEwOlJlcG9zaXRvcn\n"
     ]
    }
   ],
   "source": [
    "# Xem 100 ký tự đầu tiên trong chuỗi JSON lấy được\n",
    "print(r.text[:100])"
   ]
  },
  {
   "cell_type": "markdown",
   "id": "75c30565",
   "metadata": {
    "deletable": false,
    "editable": false,
    "nbgrader": {
     "cell_type": "markdown",
     "checksum": "9a111ab7eb72cb686492edd7162a1d05",
     "grade": false,
     "grade_id": "cell-04601f38d7cbc4c5",
     "locked": true,
     "schema_version": 3,
     "solution": false,
     "task": false
    }
   },
   "source": [
    "Bạn thấy \"total_count\" có giá trị là 1546, nghĩa là tìm được 1546 thùng chứa (tại thời điểm bạn chạy thì có thể khác một ít, vì có thể xảy ra trường hợp chủ thùng chứa xóa thùng chứa đi, hoặc chuyển sang private). Tuy nhiên, đây chỉ là trang đầu tiên và chỉ có 100 thùng chứa (số lượng phần tử của \"items\"). Link tới trang kế tiếp nằm trong headers của nội dung gửi về từ server."
   ]
  },
  {
   "cell_type": "code",
   "execution_count": 13,
   "id": "a26044fb",
   "metadata": {
    "deletable": false,
    "editable": false,
    "nbgrader": {
     "cell_type": "code",
     "checksum": "6c60950e8e16c8022e7e5c8fa863c62e",
     "grade": false,
     "grade_id": "cell-effae737835d1975",
     "locked": true,
     "schema_version": 3,
     "solution": false,
     "task": false
    }
   },
   "outputs": [
    {
     "data": {
      "text/plain": [
       "'<https://api.github.com/search/repositories?q=data+science+created%3A2017-01-01..2017-01-31&per_page=100&page=2>; rel=\"next\", <https://api.github.com/search/repositories?q=data+science+created%3A2017-01-01..2017-01-31&per_page=100&page=10>; rel=\"last\"'"
      ]
     },
     "execution_count": 13,
     "metadata": {},
     "output_type": "execute_result"
    }
   ],
   "source": [
    "r.headers['Link']"
   ]
  },
  {
   "cell_type": "markdown",
   "id": "04e46534",
   "metadata": {
    "deletable": false,
    "editable": false,
    "nbgrader": {
     "cell_type": "markdown",
     "checksum": "c8963b7c2408efaadaa94918ef43c042",
     "grade": false,
     "grade_id": "cell-d1382d0752362915",
     "locked": true,
     "schema_version": 3,
     "solution": false,
     "task": false
    }
   },
   "source": [
    "Link tới trang kế tiếp là link mà ở bên cạnh phía phải có từ `rel=\"next\"`. `rel=\"last\"` nghĩa là trang cuối. Vì đây là trang đầu tiên nên chỉ có \"next\" và \"last\", trang ở giữa còn có thêm \"first\" (trang đầu) và \"prev\" (trang trước). Bạn có thể xem thêm ở [document](https://docs.github.com/en/free-pro-team@latest/rest/guides/traversing-with-pagination).\n",
    "\n",
    "Nếu để ý thì bạn thấy trang cuối là `page=10`, nghĩa là tất cả các trang chỉ có $10\\times100=1000$ thùng chứa. Trong khi đó, \"total_count\" là 1546. Lý do: \"the GitHub Search API provides up to **1,000 results for each search**\" ([document](https://docs.github.com/en/free-pro-team@latest/rest/reference/search)). Trong hàm này chỉ yêu cầu bạn lấy hết kết quả ở tất cả các trang là được ($\\le1000$ kết quả). Việc lấy $>1000$ kết quả sẽ làm ở phần kế tiếp.\n",
    "\n",
    "Một yêu cầu nữa trong hàm này là: \n",
    "- Khi request không được (`r.ok` có giá trị là `False`) do hết số lượng request được phép trong 1 phút (với API không chứng thực thì hiện nay được 10 request / phút) thì bạn sẽ cho chương trình sleep rồi dậy thực hiện request lại, nếu vẫn chưa được thì lại sleep ... Bạn lưu ý là, <font color=red>không được giả định lần request đầu tiên là chắc chắn thành công</font> (vì khi chấm bài mình sẽ phải chạy nhiều bài và có thể đến bài của bạn đã hết lượt request được phép).\n",
    "- Khi request được nhưng giá trị của `incomplete_results`(xem thêm ở [document](https://docs.github.com/en/free-pro-team@latest/rest/reference/search#timeouts-and-incomplete-results)) bằng `True` thì bạn cần thực hiện request lại cho đến khi `incomplete_results` bằng `False`. Bạn còn nhớ khi setup cache ở đầu, mình yêu cầu bạn không cache lại các response mà phần text có chứa chuỗi `\"incomplete_results\":True`. Vì nếu bạn cache lại các response này thì ở lần request kế sẽ được lấy từ cache và `incomplete_results` luôn bằng `True`."
   ]
  },
  {
   "cell_type": "markdown",
   "id": "a8c7c7ec",
   "metadata": {
    "deletable": false,
    "editable": false,
    "nbgrader": {
     "cell_type": "markdown",
     "checksum": "755ab6d2049fda73305b1bba8bf749ff",
     "grade": false,
     "grade_id": "cell-2e4e865d620b8d37",
     "locked": true,
     "schema_version": 3,
     "solution": false,
     "task": false
    }
   },
   "source": [
    "Output trả về của hàm `collect_repositories`:\n",
    "- `repositories`: là list các thùng chứa lấy được (list gồm \"item\" của tất cả các trang)."
   ]
  },
  {
   "cell_type": "code",
   "execution_count": 7,
   "id": "151513fd",
   "metadata": {
    "deletable": false,
    "nbgrader": {
     "cell_type": "code",
     "checksum": "cb8dc4a4c5f5d87e7fff0263de9c74d3",
     "grade": false,
     "grade_id": "TODO3",
     "locked": false,
     "schema_version": 3,
     "solution": true,
     "task": false
    }
   },
   "outputs": [],
   "source": [
    "def collect_repositories(start_date, end_date, keyword='data science', per_page=100):\n",
    "    repositories = []\n",
    "    # YOUR CODE HERE\n",
    "    #ex: https://api.github.com/search/repositories?q=data%20science%20created:2017-01-01..2017-01-15&per_page=100\n",
    "    url = f'https://api.github.com/search/repositories?q={keyword} created:{start_date}..{end_date}&per_page={per_page}'\n",
    "    page = 0\n",
    "\n",
    "    while(1):   \n",
    "        #preconditions: check if the page is 'valid' to continue\n",
    "        while(1):\n",
    "            r = requests.get(url)\n",
    "            response = json.loads(r.content)\n",
    "\n",
    "            if r.ok == False or response['incomplete_results'] == True:\n",
    "                time.sleep(sleep_time)\n",
    "            else:\n",
    "                break\n",
    "        \n",
    "        # process each item (= each dict) in items \n",
    "        items = response['items']\n",
    "        count_item = 0\n",
    "        \n",
    "        for item in items:\n",
    "            if count_item <= per_page:   \n",
    "                repositories.append(item)\n",
    "                count_item += 1\n",
    "            else:\n",
    "                break\n",
    "        \n",
    "        # go to next page\n",
    "        # example: '<https://api.github.com/search/repositories?q=data+science+created%3A2017-01-01..2017-01-31&per_page=100&page=2>; rel=\"next\", <https://api.github.com/search/repositories?q=data+science+created%3A2017-01-01..2017-01-31&per_page=100&page=10>; rel=\"last\"'\n",
    "        if per_page >= response['total_count']: # this is the first & also the last page\n",
    "            break\n",
    "        else:\n",
    "            list_links = r.headers['Link']\n",
    "            match = re.search('rel=\"next\"', list_links)\n",
    "            \n",
    "            if not match: \n",
    "                break\n",
    "            else:\n",
    "                end_boundary = match.start()-3\n",
    "                if page == 0: start_boundary = 1\n",
    "                else: start_boundary = re.search('rel=\"prev\"', list_links).end() + 3\n",
    "                url = list_links[start_boundary:end_boundary]\n",
    "            page += 1\n",
    "        \n",
    "    return repositories "
   ]
  },
  {
   "cell_type": "code",
   "execution_count": 10,
   "metadata": {},
   "outputs": [
    {
     "name": "stdout",
     "output_type": "stream",
     "text": [
      "44\n"
     ]
    }
   ],
   "source": [
    "# DRAFT\n",
    "start_date = '2017-01-02'\n",
    "end_date = '2017-01-02'\n",
    "keyword = 'data science'\n",
    "per_page = 44\n",
    "repositories = collect_repositories(start_date, end_date, keyword, per_page)\n",
    "print(len(repositories))"
   ]
  },
  {
   "cell_type": "code",
   "execution_count": 7,
   "id": "4f30fcb9",
   "metadata": {
    "deletable": false,
    "editable": false,
    "nbgrader": {
     "cell_type": "code",
     "checksum": "4ce3a6692f9e626ba3503c302752c812",
     "grade": true,
     "grade_id": "MARKTODO3",
     "locked": true,
     "points": 2.5,
     "schema_version": 3,
     "solution": false,
     "task": false
    }
   },
   "outputs": [
    {
     "name": "stdout",
     "output_type": "stream",
     "text": [
      "663\n"
     ]
    }
   ],
   "source": [
    "# TEST\n",
    "start_date = '2017-01-01'\n",
    "end_date = '2017-01-15'\n",
    "keyword = 'data science'\n",
    "per_page = 100\n",
    "repositories = collect_repositories(start_date, end_date, keyword, per_page)\n",
    "print(len(repositories))\n",
    "\n",
    "url = f'https://api.github.com/search/repositories?q={keyword} created:{start_date}..{end_date}'\n",
    "while True:\n",
    "    json_str = requests.get(url).text\n",
    "    if '\"incomplete_results\":false' in json_str:\n",
    "        i = json_str.find(':')\n",
    "        j = json_str.find(',')\n",
    "        total_count = int(json_str[i+1:j])\n",
    "        break\n",
    "     \n",
    "assert len(repositories) == total_count \n"
   ]
  },
  {
   "cell_type": "markdown",
   "id": "cee39d35",
   "metadata": {
    "deletable": false,
    "editable": false,
    "nbgrader": {
     "cell_type": "markdown",
     "checksum": "21fd064ce61ea57bd32c492dda918830",
     "grade": false,
     "grade_id": "cell-af196deb6fe08fcd",
     "locked": true,
     "schema_version": 3,
     "solution": false,
     "task": false
    }
   },
   "source": [
    "### Thu thập nhiều hơn 1000 thùng chứa (2.5đ)"
   ]
  },
  {
   "cell_type": "markdown",
   "id": "4583acc3",
   "metadata": {
    "deletable": false,
    "editable": false,
    "nbgrader": {
     "cell_type": "markdown",
     "checksum": "338d7ee96f43e491302a4346e473a64c",
     "grade": false,
     "grade_id": "cell-6bbeb71a98ce149f",
     "locked": true,
     "schema_version": 3,
     "solution": false,
     "task": false
    }
   },
   "source": [
    "Để thu thập hết 1546 thùng chứa trong ví dụ ở trên, ta sẽ: \n",
    "- Chia khoảng thời gian các thùng chứa được tạo mà ta cần tìm kiếm ra các khoảng thời gian nhỏ hơn. Ví dụ chia 2017-01-01..2017-01-15 thành 2017-01-01..2017-01-07, 2017-01-08..2017-01-14, 2017-01-15..2017-01-15; ở đây, mỗi khoảng thời gian nhỏ gồm 7 ngày (kể cả 2 đầu), khoảng thời gian nhỏ sau cùng có thể sẽ không đủ 7 ngày (do bị lẻ). Trong Python, để làm việc với dữ liệu thời gian, bạn có thể dùng thư viện `datetime`; bạn có thể tự tìm hiểu về thư viện này ở: [document](https://docs.python.org/3.7/library/datetime.html), [Corey's video](https://www.youtube.com/watch?v=eirjjyP2qcQ), Google.\n",
    "- Tìm kiếm với khoảng thời gian nhỏ hơn này bằng hàm `collect_repositories` ở trên (với khoảng thời gian đủ nhỏ sẽ có $\\le1000$ thùng chứa).\n",
    "- Kết hợp kết quả từ các lần tìm kiếm với các khoảng thời gian nhỏ này lại.\n",
    "\n",
    "Bạn sẽ cài đặt các bước này ở hàm `collect_all_repositories` dưới đây. Hàm này có các input:\n",
    "- `start_date`, `end_date`, `keyword`, `per_page`: các input này giống như ở hàm `collect_repositories`.\n",
    "- `step`: là số nguyên, cho biết khoảng thời gian nhỏ gồm bao nhiêu ngày (tính cả 2 đầu). Trong ví dụ ở trên, `step=7`.\n",
    "\n",
    "Output trả về của hàm này:\n",
    "- `all_repositories`: là list tất cả các thùng chứa (\"item\") lấy được."
   ]
  },
  {
   "cell_type": "code",
   "execution_count": 11,
   "id": "1fadca8b",
   "metadata": {
    "deletable": false,
    "nbgrader": {
     "cell_type": "code",
     "checksum": "cfc2aaf7508c309ad64845f6940c1fa5",
     "grade": false,
     "grade_id": "TODO4",
     "locked": false,
     "schema_version": 3,
     "solution": true,
     "task": false
    }
   },
   "outputs": [],
   "source": [
    "def collect_all_repositories(start_date, end_date, step, keyword='data science', per_page=100):\n",
    "    all_repositories = []\n",
    "    # YOUR CODE HERE\n",
    "    # url = f'https://api.github.com/search/repositories?q={keyword} created:{start_date}..{end_date}'\n",
    "    start_date, end_date = datetime.strptime(start_date, '%Y-%m-%d'), datetime.strptime(end_date, '%Y-%m-%d') # datetime objs\n",
    "    tdelta = timedelta(days= step - 1)\n",
    "    flag = 0\n",
    "\n",
    "    while(flag == 0):\n",
    "        start, end = start_date, start_date + tdelta \n",
    "        if end >= end_date:\n",
    "            end = end_date\n",
    "            flag = 1\n",
    "        \n",
    "        repo = collect_repositories(start.strftime('%Y-%m-%d'), end.strftime('%Y-%m-%d'), keyword, per_page)\n",
    "        all_repositories += repo # list of lists\n",
    "        start_date = end + timedelta(days= 1)\n",
    "\n",
    "    return all_repositories"
   ]
  },
  {
   "cell_type": "code",
   "execution_count": null,
   "metadata": {},
   "outputs": [],
   "source": [
    "# DRAFT\n",
    "start_date = '2017-01-01'\n",
    "end_date = '2017-01-31'\n",
    "step = 10\n",
    "keyword = 'data science'\n",
    "per_page = 200\n",
    "all_repositories = collect_all_repositories(start_date, end_date, step, keyword, per_page)\n",
    "print(len(all_repositories))"
   ]
  },
  {
   "cell_type": "code",
   "execution_count": 12,
   "id": "4df0f739",
   "metadata": {
    "deletable": false,
    "editable": false,
    "nbgrader": {
     "cell_type": "code",
     "checksum": "a3f4b4eec8b705244f3dfc86236f53a8",
     "grade": true,
     "grade_id": "MARKTODO4",
     "locked": true,
     "points": 2.5,
     "schema_version": 3,
     "solution": false,
     "task": false
    }
   },
   "outputs": [
    {
     "name": "stdout",
     "output_type": "stream",
     "text": [
      "1546\n"
     ]
    }
   ],
   "source": [
    "# TEST\n",
    "start_date = '2017-01-01'\n",
    "end_date = '2017-01-31'\n",
    "step = 10\n",
    "keyword = 'data science'\n",
    "per_page = 100\n",
    "all_repositories = collect_all_repositories(start_date, end_date, step, keyword, per_page)\n",
    "print(len(all_repositories))\n",
    "\n",
    "url = f'https://api.github.com/search/repositories?q={keyword} created:{start_date}..{end_date}'\n",
    "while True:\n",
    "    json_str = requests.get(url).text\n",
    "    if '\"incomplete_results\":false' in json_str:\n",
    "        i = json_str.find(':')\n",
    "        j = json_str.find(',')\n",
    "        total_count = int(json_str[i+1:j])\n",
    "        break\n",
    "\n",
    "assert len(all_repositories) == total_count \n"
   ]
  }
 ],
 "metadata": {
  "interpreter": {
   "hash": "dcacb0086e9a4f4eabd41c33bf4faac5ea0a3337ed3f5eff0680afa930572c04"
  },
  "kernelspec": {
   "display_name": "Python 3.9.6 64-bit",
   "name": "python3"
  },
  "language_info": {
   "codemirror_mode": {
    "name": "ipython",
    "version": 3
   },
   "file_extension": ".py",
   "mimetype": "text/x-python",
   "name": "python",
   "nbconvert_exporter": "python",
   "pygments_lexer": "ipython3",
   "version": "3.9.6"
  }
 },
 "nbformat": 4,
 "nbformat_minor": 5
}
